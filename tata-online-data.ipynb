{
 "cells": [
  {
   "cell_type": "code",
   "execution_count": 1,
   "id": "b7233c89",
   "metadata": {
    "_cell_guid": "b1076dfc-b9ad-4769-8c92-a6c4dae69d19",
    "_uuid": "8f2839f25d086af736a60e9eeb907d3b93b6e0e5",
    "execution": {
     "iopub.execute_input": "2025-03-16T15:46:58.559780Z",
     "iopub.status.busy": "2025-03-16T15:46:58.559386Z",
     "iopub.status.idle": "2025-03-16T15:46:59.734862Z",
     "shell.execute_reply": "2025-03-16T15:46:59.733237Z"
    },
    "jupyter": {
     "source_hidden": true
    },
    "papermill": {
     "duration": 1.184413,
     "end_time": "2025-03-16T15:46:59.737935",
     "exception": false,
     "start_time": "2025-03-16T15:46:58.553522",
     "status": "completed"
    },
    "tags": []
   },
   "outputs": [
    {
     "name": "stdout",
     "output_type": "stream",
     "text": [
      "/kaggle/input/tata-online-data-set/Online Retail Data Set.xlsx\n"
     ]
    }
   ],
   "source": [
    "# This Python 3 environment comes with many helpful analytics libraries installed\n",
    "# It is defined by the kaggle/python Docker image: https://github.com/kaggle/docker-python\n",
    "# For example, here's several helpful packages to load\n",
    "\n",
    "import numpy as np # linear algebra\n",
    "import pandas as pd # data processing, CSV file I/O (e.g. pd.read_csv)\n",
    "\n",
    "# Input data files are available in the read-only \"../input/\" directory\n",
    "# For example, running this (by clicking run or pressing Shift+Enter) will list all files under the input directory\n",
    "\n",
    "import os\n",
    "for dirname, _, filenames in os.walk('/kaggle/input'):\n",
    "    for filename in filenames:\n",
    "        print(os.path.join(dirname, filename))\n",
    "\n",
    "# You can write up to 20GB to the current directory (/kaggle/working/) that gets preserved as output when you create a version using \"Save & Run All\" \n",
    "# You can also write temporary files to /kaggle/temp/, but they won't be saved outside of the current session"
   ]
  },
  {
   "cell_type": "markdown",
   "id": "6104829e",
   "metadata": {
    "papermill": {
     "duration": 0.006926,
     "end_time": "2025-03-16T15:46:59.750136",
     "exception": false,
     "start_time": "2025-03-16T15:46:59.743210",
     "status": "completed"
    },
    "tags": []
   },
   "source": [
    "# *Data cleaning*"
   ]
  },
  {
   "cell_type": "code",
   "execution_count": 2,
   "id": "5ae34f77",
   "metadata": {
    "execution": {
     "iopub.execute_input": "2025-03-16T15:46:59.764807Z",
     "iopub.status.busy": "2025-03-16T15:46:59.764062Z",
     "iopub.status.idle": "2025-03-16T15:48:05.657257Z",
     "shell.execute_reply": "2025-03-16T15:48:05.655894Z"
    },
    "papermill": {
     "duration": 65.906835,
     "end_time": "2025-03-16T15:48:05.662941",
     "exception": false,
     "start_time": "2025-03-16T15:46:59.756106",
     "status": "completed"
    },
    "tags": []
   },
   "outputs": [
    {
     "data": {
      "text/html": [
       "<div>\n",
       "<style scoped>\n",
       "    .dataframe tbody tr th:only-of-type {\n",
       "        vertical-align: middle;\n",
       "    }\n",
       "\n",
       "    .dataframe tbody tr th {\n",
       "        vertical-align: top;\n",
       "    }\n",
       "\n",
       "    .dataframe thead th {\n",
       "        text-align: right;\n",
       "    }\n",
       "</style>\n",
       "<table border=\"1\" class=\"dataframe\">\n",
       "  <thead>\n",
       "    <tr style=\"text-align: right;\">\n",
       "      <th></th>\n",
       "      <th>InvoiceNo</th>\n",
       "      <th>StockCode</th>\n",
       "      <th>Description</th>\n",
       "      <th>Quantity</th>\n",
       "      <th>InvoiceDate</th>\n",
       "      <th>UnitPrice</th>\n",
       "      <th>CustomerID</th>\n",
       "      <th>Country</th>\n",
       "    </tr>\n",
       "  </thead>\n",
       "  <tbody>\n",
       "    <tr>\n",
       "      <th>0</th>\n",
       "      <td>536365</td>\n",
       "      <td>85123A</td>\n",
       "      <td>WHITE HANGING HEART T-LIGHT HOLDER</td>\n",
       "      <td>6</td>\n",
       "      <td>2010-12-01 08:26:00</td>\n",
       "      <td>2.55</td>\n",
       "      <td>17850.0</td>\n",
       "      <td>United Kingdom</td>\n",
       "    </tr>\n",
       "    <tr>\n",
       "      <th>1</th>\n",
       "      <td>536365</td>\n",
       "      <td>71053</td>\n",
       "      <td>WHITE METAL LANTERN</td>\n",
       "      <td>6</td>\n",
       "      <td>2010-12-01 08:26:00</td>\n",
       "      <td>3.39</td>\n",
       "      <td>17850.0</td>\n",
       "      <td>United Kingdom</td>\n",
       "    </tr>\n",
       "    <tr>\n",
       "      <th>2</th>\n",
       "      <td>536365</td>\n",
       "      <td>84406B</td>\n",
       "      <td>CREAM CUPID HEARTS COAT HANGER</td>\n",
       "      <td>8</td>\n",
       "      <td>2010-12-01 08:26:00</td>\n",
       "      <td>2.75</td>\n",
       "      <td>17850.0</td>\n",
       "      <td>United Kingdom</td>\n",
       "    </tr>\n",
       "    <tr>\n",
       "      <th>3</th>\n",
       "      <td>536365</td>\n",
       "      <td>84029G</td>\n",
       "      <td>KNITTED UNION FLAG HOT WATER BOTTLE</td>\n",
       "      <td>6</td>\n",
       "      <td>2010-12-01 08:26:00</td>\n",
       "      <td>3.39</td>\n",
       "      <td>17850.0</td>\n",
       "      <td>United Kingdom</td>\n",
       "    </tr>\n",
       "    <tr>\n",
       "      <th>4</th>\n",
       "      <td>536365</td>\n",
       "      <td>84029E</td>\n",
       "      <td>RED WOOLLY HOTTIE WHITE HEART.</td>\n",
       "      <td>6</td>\n",
       "      <td>2010-12-01 08:26:00</td>\n",
       "      <td>3.39</td>\n",
       "      <td>17850.0</td>\n",
       "      <td>United Kingdom</td>\n",
       "    </tr>\n",
       "  </tbody>\n",
       "</table>\n",
       "</div>"
      ],
      "text/plain": [
       "  InvoiceNo StockCode                          Description  Quantity  \\\n",
       "0    536365    85123A   WHITE HANGING HEART T-LIGHT HOLDER         6   \n",
       "1    536365     71053                  WHITE METAL LANTERN         6   \n",
       "2    536365    84406B       CREAM CUPID HEARTS COAT HANGER         8   \n",
       "3    536365    84029G  KNITTED UNION FLAG HOT WATER BOTTLE         6   \n",
       "4    536365    84029E       RED WOOLLY HOTTIE WHITE HEART.         6   \n",
       "\n",
       "          InvoiceDate  UnitPrice  CustomerID         Country  \n",
       "0 2010-12-01 08:26:00       2.55     17850.0  United Kingdom  \n",
       "1 2010-12-01 08:26:00       3.39     17850.0  United Kingdom  \n",
       "2 2010-12-01 08:26:00       2.75     17850.0  United Kingdom  \n",
       "3 2010-12-01 08:26:00       3.39     17850.0  United Kingdom  \n",
       "4 2010-12-01 08:26:00       3.39     17850.0  United Kingdom  "
      ]
     },
     "execution_count": 2,
     "metadata": {},
     "output_type": "execute_result"
    }
   ],
   "source": [
    "import pandas as pd\n",
    "\n",
    "# File path (replace this with Kaggle's path after uploading)\n",
    "file_path = \"/kaggle/input//tata-online-data-set/Online Retail Data Set.xlsx\"\n",
    "\n",
    "# Load the dataset\n",
    "df = pd.read_excel(file_path, sheet_name=\"Online Retail\")\n",
    "\n",
    "# View first few rows\n",
    "df.head()\n"
   ]
  },
  {
   "cell_type": "markdown",
   "id": "5c98718d",
   "metadata": {
    "papermill": {
     "duration": 0.003602,
     "end_time": "2025-03-16T15:48:05.670531",
     "exception": false,
     "start_time": "2025-03-16T15:48:05.666929",
     "status": "completed"
    },
    "tags": []
   },
   "source": [
    "# Step 3.2: Inspect the Data"
   ]
  },
  {
   "cell_type": "code",
   "execution_count": 3,
   "id": "f244d554",
   "metadata": {
    "execution": {
     "iopub.execute_input": "2025-03-16T15:48:05.680619Z",
     "iopub.status.busy": "2025-03-16T15:48:05.680153Z",
     "iopub.status.idle": "2025-03-16T15:48:06.028878Z",
     "shell.execute_reply": "2025-03-16T15:48:06.027950Z"
    },
    "papermill": {
     "duration": 0.35562,
     "end_time": "2025-03-16T15:48:06.030547",
     "exception": false,
     "start_time": "2025-03-16T15:48:05.674927",
     "status": "completed"
    },
    "tags": []
   },
   "outputs": [
    {
     "name": "stdout",
     "output_type": "stream",
     "text": [
      "<class 'pandas.core.frame.DataFrame'>\n",
      "RangeIndex: 541909 entries, 0 to 541908\n",
      "Data columns (total 8 columns):\n",
      " #   Column       Non-Null Count   Dtype         \n",
      "---  ------       --------------   -----         \n",
      " 0   InvoiceNo    541909 non-null  object        \n",
      " 1   StockCode    541909 non-null  object        \n",
      " 2   Description  540455 non-null  object        \n",
      " 3   Quantity     541909 non-null  int64         \n",
      " 4   InvoiceDate  541909 non-null  datetime64[ns]\n",
      " 5   UnitPrice    541909 non-null  float64       \n",
      " 6   CustomerID   406829 non-null  float64       \n",
      " 7   Country      541909 non-null  object        \n",
      "dtypes: datetime64[ns](1), float64(2), int64(1), object(4)\n",
      "memory usage: 33.1+ MB\n",
      "InvoiceNo           0\n",
      "StockCode           0\n",
      "Description      1454\n",
      "Quantity            0\n",
      "InvoiceDate         0\n",
      "UnitPrice           0\n",
      "CustomerID     135080\n",
      "Country             0\n",
      "dtype: int64\n"
     ]
    },
    {
     "data": {
      "text/html": [
       "<div>\n",
       "<style scoped>\n",
       "    .dataframe tbody tr th:only-of-type {\n",
       "        vertical-align: middle;\n",
       "    }\n",
       "\n",
       "    .dataframe tbody tr th {\n",
       "        vertical-align: top;\n",
       "    }\n",
       "\n",
       "    .dataframe thead th {\n",
       "        text-align: right;\n",
       "    }\n",
       "</style>\n",
       "<table border=\"1\" class=\"dataframe\">\n",
       "  <thead>\n",
       "    <tr style=\"text-align: right;\">\n",
       "      <th></th>\n",
       "      <th>Quantity</th>\n",
       "      <th>InvoiceDate</th>\n",
       "      <th>UnitPrice</th>\n",
       "      <th>CustomerID</th>\n",
       "    </tr>\n",
       "  </thead>\n",
       "  <tbody>\n",
       "    <tr>\n",
       "      <th>count</th>\n",
       "      <td>541909.000000</td>\n",
       "      <td>541909</td>\n",
       "      <td>541909.000000</td>\n",
       "      <td>406829.000000</td>\n",
       "    </tr>\n",
       "    <tr>\n",
       "      <th>mean</th>\n",
       "      <td>9.552250</td>\n",
       "      <td>2011-07-04 13:34:57.156386048</td>\n",
       "      <td>4.611114</td>\n",
       "      <td>15287.690570</td>\n",
       "    </tr>\n",
       "    <tr>\n",
       "      <th>min</th>\n",
       "      <td>-80995.000000</td>\n",
       "      <td>2010-12-01 08:26:00</td>\n",
       "      <td>-11062.060000</td>\n",
       "      <td>12346.000000</td>\n",
       "    </tr>\n",
       "    <tr>\n",
       "      <th>25%</th>\n",
       "      <td>1.000000</td>\n",
       "      <td>2011-03-28 11:34:00</td>\n",
       "      <td>1.250000</td>\n",
       "      <td>13953.000000</td>\n",
       "    </tr>\n",
       "    <tr>\n",
       "      <th>50%</th>\n",
       "      <td>3.000000</td>\n",
       "      <td>2011-07-19 17:17:00</td>\n",
       "      <td>2.080000</td>\n",
       "      <td>15152.000000</td>\n",
       "    </tr>\n",
       "    <tr>\n",
       "      <th>75%</th>\n",
       "      <td>10.000000</td>\n",
       "      <td>2011-10-19 11:27:00</td>\n",
       "      <td>4.130000</td>\n",
       "      <td>16791.000000</td>\n",
       "    </tr>\n",
       "    <tr>\n",
       "      <th>max</th>\n",
       "      <td>80995.000000</td>\n",
       "      <td>2011-12-09 12:50:00</td>\n",
       "      <td>38970.000000</td>\n",
       "      <td>18287.000000</td>\n",
       "    </tr>\n",
       "    <tr>\n",
       "      <th>std</th>\n",
       "      <td>218.081158</td>\n",
       "      <td>NaN</td>\n",
       "      <td>96.759853</td>\n",
       "      <td>1713.600303</td>\n",
       "    </tr>\n",
       "  </tbody>\n",
       "</table>\n",
       "</div>"
      ],
      "text/plain": [
       "            Quantity                    InvoiceDate      UnitPrice  \\\n",
       "count  541909.000000                         541909  541909.000000   \n",
       "mean        9.552250  2011-07-04 13:34:57.156386048       4.611114   \n",
       "min    -80995.000000            2010-12-01 08:26:00  -11062.060000   \n",
       "25%         1.000000            2011-03-28 11:34:00       1.250000   \n",
       "50%         3.000000            2011-07-19 17:17:00       2.080000   \n",
       "75%        10.000000            2011-10-19 11:27:00       4.130000   \n",
       "max     80995.000000            2011-12-09 12:50:00   38970.000000   \n",
       "std       218.081158                            NaN      96.759853   \n",
       "\n",
       "          CustomerID  \n",
       "count  406829.000000  \n",
       "mean    15287.690570  \n",
       "min     12346.000000  \n",
       "25%     13953.000000  \n",
       "50%     15152.000000  \n",
       "75%     16791.000000  \n",
       "max     18287.000000  \n",
       "std      1713.600303  "
      ]
     },
     "execution_count": 3,
     "metadata": {},
     "output_type": "execute_result"
    }
   ],
   "source": [
    "# Check dataset info\n",
    "df.info()\n",
    "\n",
    "# Check missing values\n",
    "print(df.isnull().sum())\n",
    "\n",
    "# Check basic statistics\n",
    "df.describe()\n"
   ]
  },
  {
   "cell_type": "markdown",
   "id": "266de0c1",
   "metadata": {
    "papermill": {
     "duration": 0.003911,
     "end_time": "2025-03-16T15:48:06.038880",
     "exception": false,
     "start_time": "2025-03-16T15:48:06.034969",
     "status": "completed"
    },
    "tags": []
   },
   "source": [
    "# Remove Negative & Zero Values"
   ]
  },
  {
   "cell_type": "code",
   "execution_count": 4,
   "id": "13ca936c",
   "metadata": {
    "execution": {
     "iopub.execute_input": "2025-03-16T15:48:06.048766Z",
     "iopub.status.busy": "2025-03-16T15:48:06.048382Z",
     "iopub.status.idle": "2025-03-16T15:48:06.147265Z",
     "shell.execute_reply": "2025-03-16T15:48:06.145963Z"
    },
    "papermill": {
     "duration": 0.106436,
     "end_time": "2025-03-16T15:48:06.149558",
     "exception": false,
     "start_time": "2025-03-16T15:48:06.043122",
     "status": "completed"
    },
    "tags": []
   },
   "outputs": [],
   "source": [
    "df = df[df[\"Quantity\"] > 0]   # Remove returns\n",
    "df = df[df[\"UnitPrice\"] > 0]  # Remove invalid prices\n"
   ]
  },
  {
   "cell_type": "markdown",
   "id": "a3b7e398",
   "metadata": {
    "papermill": {
     "duration": 0.004011,
     "end_time": "2025-03-16T15:48:06.158131",
     "exception": false,
     "start_time": "2025-03-16T15:48:06.154120",
     "status": "completed"
    },
    "tags": []
   },
   "source": [
    "# Convert Date Column to Datetime"
   ]
  },
  {
   "cell_type": "code",
   "execution_count": 5,
   "id": "af119d58",
   "metadata": {
    "execution": {
     "iopub.execute_input": "2025-03-16T15:48:06.168113Z",
     "iopub.status.busy": "2025-03-16T15:48:06.167700Z",
     "iopub.status.idle": "2025-03-16T15:48:06.196235Z",
     "shell.execute_reply": "2025-03-16T15:48:06.195238Z"
    },
    "papermill": {
     "duration": 0.035876,
     "end_time": "2025-03-16T15:48:06.198261",
     "exception": false,
     "start_time": "2025-03-16T15:48:06.162385",
     "status": "completed"
    },
    "tags": []
   },
   "outputs": [],
   "source": [
    "df[\"InvoiceDate\"] = pd.to_datetime(df[\"InvoiceDate\"])\n"
   ]
  },
  {
   "cell_type": "markdown",
   "id": "8c706a00",
   "metadata": {
    "papermill": {
     "duration": 0.003973,
     "end_time": "2025-03-16T15:48:06.206840",
     "exception": false,
     "start_time": "2025-03-16T15:48:06.202867",
     "status": "completed"
    },
    "tags": []
   },
   "source": [
    "# Filter Data for 2011 Only"
   ]
  },
  {
   "cell_type": "code",
   "execution_count": 6,
   "id": "c4bc6c07",
   "metadata": {
    "execution": {
     "iopub.execute_input": "2025-03-16T15:48:06.216580Z",
     "iopub.status.busy": "2025-03-16T15:48:06.216253Z",
     "iopub.status.idle": "2025-03-16T15:48:06.266926Z",
     "shell.execute_reply": "2025-03-16T15:48:06.265736Z"
    },
    "papermill": {
     "duration": 0.057832,
     "end_time": "2025-03-16T15:48:06.268812",
     "exception": false,
     "start_time": "2025-03-16T15:48:06.210980",
     "status": "completed"
    },
    "tags": []
   },
   "outputs": [],
   "source": [
    "df = df[df[\"InvoiceDate\"].dt.year == 2011]\n"
   ]
  },
  {
   "cell_type": "markdown",
   "id": "3ebf7476",
   "metadata": {
    "papermill": {
     "duration": 0.004001,
     "end_time": "2025-03-16T15:48:06.277240",
     "exception": false,
     "start_time": "2025-03-16T15:48:06.273239",
     "status": "completed"
    },
    "tags": []
   },
   "source": [
    "# Handle Missing Customer IDs"
   ]
  },
  {
   "cell_type": "code",
   "execution_count": 7,
   "id": "8ae2ab5b",
   "metadata": {
    "execution": {
     "iopub.execute_input": "2025-03-16T15:48:06.288823Z",
     "iopub.status.busy": "2025-03-16T15:48:06.288434Z",
     "iopub.status.idle": "2025-03-16T15:48:06.296436Z",
     "shell.execute_reply": "2025-03-16T15:48:06.295210Z"
    },
    "papermill": {
     "duration": 0.015993,
     "end_time": "2025-03-16T15:48:06.298255",
     "exception": false,
     "start_time": "2025-03-16T15:48:06.282262",
     "status": "completed"
    },
    "tags": []
   },
   "outputs": [
    {
     "name": "stderr",
     "output_type": "stream",
     "text": [
      "<ipython-input-7-b81759ab96de>:1: FutureWarning: A value is trying to be set on a copy of a DataFrame or Series through chained assignment using an inplace method.\n",
      "The behavior will change in pandas 3.0. This inplace method will never work because the intermediate object on which we are setting values always behaves as a copy.\n",
      "\n",
      "For example, when doing 'df[col].method(value, inplace=True)', try using 'df.method({col: value}, inplace=True)' or df[col] = df[col].method(value) instead, to perform the operation inplace on the original object.\n",
      "\n",
      "\n",
      "  df[\"CustomerID\"].fillna(0, inplace=True)\n"
     ]
    }
   ],
   "source": [
    "df[\"CustomerID\"].fillna(0, inplace=True)\n"
   ]
  },
  {
   "cell_type": "markdown",
   "id": "9947df71",
   "metadata": {
    "papermill": {
     "duration": 0.004497,
     "end_time": "2025-03-16T15:48:06.307230",
     "exception": false,
     "start_time": "2025-03-16T15:48:06.302733",
     "status": "completed"
    },
    "tags": []
   },
   "source": [
    "# Create a New Column for Revenue"
   ]
  },
  {
   "cell_type": "code",
   "execution_count": 8,
   "id": "e3989579",
   "metadata": {
    "execution": {
     "iopub.execute_input": "2025-03-16T15:48:06.317225Z",
     "iopub.status.busy": "2025-03-16T15:48:06.316880Z",
     "iopub.status.idle": "2025-03-16T15:48:06.443882Z",
     "shell.execute_reply": "2025-03-16T15:48:06.442666Z"
    },
    "papermill": {
     "duration": 0.134331,
     "end_time": "2025-03-16T15:48:06.445893",
     "exception": false,
     "start_time": "2025-03-16T15:48:06.311562",
     "status": "completed"
    },
    "tags": []
   },
   "outputs": [
    {
     "data": {
      "text/html": [
       "<div>\n",
       "<style scoped>\n",
       "    .dataframe tbody tr th:only-of-type {\n",
       "        vertical-align: middle;\n",
       "    }\n",
       "\n",
       "    .dataframe tbody tr th {\n",
       "        vertical-align: top;\n",
       "    }\n",
       "\n",
       "    .dataframe thead th {\n",
       "        text-align: right;\n",
       "    }\n",
       "</style>\n",
       "<table border=\"1\" class=\"dataframe\">\n",
       "  <thead>\n",
       "    <tr style=\"text-align: right;\">\n",
       "      <th></th>\n",
       "      <th>Quantity</th>\n",
       "      <th>InvoiceDate</th>\n",
       "      <th>UnitPrice</th>\n",
       "      <th>CustomerID</th>\n",
       "      <th>Revenue</th>\n",
       "    </tr>\n",
       "  </thead>\n",
       "  <tbody>\n",
       "    <tr>\n",
       "      <th>count</th>\n",
       "      <td>488624.000000</td>\n",
       "      <td>488624</td>\n",
       "      <td>488624.000000</td>\n",
       "      <td>488624.000000</td>\n",
       "      <td>488624.000000</td>\n",
       "    </tr>\n",
       "    <tr>\n",
       "      <th>mean</th>\n",
       "      <td>10.701760</td>\n",
       "      <td>2011-07-22 08:15:56.926470912</td>\n",
       "      <td>3.830232</td>\n",
       "      <td>11622.862459</td>\n",
       "      <td>20.144198</td>\n",
       "    </tr>\n",
       "    <tr>\n",
       "      <th>min</th>\n",
       "      <td>1.000000</td>\n",
       "      <td>2011-01-04 10:00:00</td>\n",
       "      <td>0.001000</td>\n",
       "      <td>0.000000</td>\n",
       "      <td>0.001000</td>\n",
       "    </tr>\n",
       "    <tr>\n",
       "      <th>25%</th>\n",
       "      <td>1.000000</td>\n",
       "      <td>2011-04-26 09:42:15</td>\n",
       "      <td>1.250000</td>\n",
       "      <td>12431.000000</td>\n",
       "      <td>3.900000</td>\n",
       "    </tr>\n",
       "    <tr>\n",
       "      <th>50%</th>\n",
       "      <td>4.000000</td>\n",
       "      <td>2011-08-05 17:12:00</td>\n",
       "      <td>2.080000</td>\n",
       "      <td>14412.000000</td>\n",
       "      <td>9.900000</td>\n",
       "    </tr>\n",
       "    <tr>\n",
       "      <th>75%</th>\n",
       "      <td>12.000000</td>\n",
       "      <td>2011-10-25 13:14:00</td>\n",
       "      <td>4.130000</td>\n",
       "      <td>16279.000000</td>\n",
       "      <td>17.700000</td>\n",
       "    </tr>\n",
       "    <tr>\n",
       "      <th>max</th>\n",
       "      <td>80995.000000</td>\n",
       "      <td>2011-12-09 12:50:00</td>\n",
       "      <td>11062.060000</td>\n",
       "      <td>18287.000000</td>\n",
       "      <td>168469.600000</td>\n",
       "    </tr>\n",
       "    <tr>\n",
       "      <th>std</th>\n",
       "      <td>161.630065</td>\n",
       "      <td>NaN</td>\n",
       "      <td>31.394297</td>\n",
       "      <td>6686.305651</td>\n",
       "      <td>280.166359</td>\n",
       "    </tr>\n",
       "  </tbody>\n",
       "</table>\n",
       "</div>"
      ],
      "text/plain": [
       "            Quantity                    InvoiceDate      UnitPrice  \\\n",
       "count  488624.000000                         488624  488624.000000   \n",
       "mean       10.701760  2011-07-22 08:15:56.926470912       3.830232   \n",
       "min         1.000000            2011-01-04 10:00:00       0.001000   \n",
       "25%         1.000000            2011-04-26 09:42:15       1.250000   \n",
       "50%         4.000000            2011-08-05 17:12:00       2.080000   \n",
       "75%        12.000000            2011-10-25 13:14:00       4.130000   \n",
       "max     80995.000000            2011-12-09 12:50:00   11062.060000   \n",
       "std       161.630065                            NaN      31.394297   \n",
       "\n",
       "          CustomerID        Revenue  \n",
       "count  488624.000000  488624.000000  \n",
       "mean    11622.862459      20.144198  \n",
       "min         0.000000       0.001000  \n",
       "25%     12431.000000       3.900000  \n",
       "50%     14412.000000       9.900000  \n",
       "75%     16279.000000      17.700000  \n",
       "max     18287.000000  168469.600000  \n",
       "std      6686.305651     280.166359  "
      ]
     },
     "execution_count": 8,
     "metadata": {},
     "output_type": "execute_result"
    }
   ],
   "source": [
    "df[\"Revenue\"] = df[\"Quantity\"] * df[\"UnitPrice\"]\n",
    "# Check basic statistics\n",
    "df.describe()\n"
   ]
  },
  {
   "cell_type": "markdown",
   "id": "6cc0a708",
   "metadata": {
    "papermill": {
     "duration": 0.004368,
     "end_time": "2025-03-16T15:48:06.454916",
     "exception": false,
     "start_time": "2025-03-16T15:48:06.450548",
     "status": "completed"
    },
    "tags": []
   },
   "source": [
    "# Save the Cleaned Data"
   ]
  },
  {
   "cell_type": "code",
   "execution_count": 9,
   "id": "8830277c",
   "metadata": {
    "execution": {
     "iopub.execute_input": "2025-03-16T15:48:06.465747Z",
     "iopub.status.busy": "2025-03-16T15:48:06.465383Z",
     "iopub.status.idle": "2025-03-16T15:48:10.044217Z",
     "shell.execute_reply": "2025-03-16T15:48:10.042988Z"
    },
    "papermill": {
     "duration": 3.58712,
     "end_time": "2025-03-16T15:48:10.046505",
     "exception": false,
     "start_time": "2025-03-16T15:48:06.459385",
     "status": "completed"
    },
    "tags": []
   },
   "outputs": [
    {
     "name": "stdout",
     "output_type": "stream",
     "text": [
      "Data cleaning completed!\n"
     ]
    }
   ],
   "source": [
    "df.to_csv(\"/kaggle/working/Cleaned_Online_Retail.csv\", index=False)\n",
    "print(\"Data cleaning completed!\")\n"
   ]
  },
  {
   "cell_type": "markdown",
   "id": "01132e4e",
   "metadata": {
    "papermill": {
     "duration": 0.00427,
     "end_time": "2025-03-16T15:48:10.055652",
     "exception": false,
     "start_time": "2025-03-16T15:48:10.051382",
     "status": "completed"
    },
    "tags": []
   },
   "source": []
  }
 ],
 "metadata": {
  "kaggle": {
   "accelerator": "none",
   "dataSources": [
    {
     "datasetId": 6733345,
     "sourceId": 10842255,
     "sourceType": "datasetVersion"
    }
   ],
   "dockerImageVersionId": 30918,
   "isGpuEnabled": false,
   "isInternetEnabled": true,
   "language": "python",
   "sourceType": "notebook"
  },
  "kernelspec": {
   "display_name": "Python 3",
   "language": "python",
   "name": "python3"
  },
  "language_info": {
   "codemirror_mode": {
    "name": "ipython",
    "version": 3
   },
   "file_extension": ".py",
   "mimetype": "text/x-python",
   "name": "python",
   "nbconvert_exporter": "python",
   "pygments_lexer": "ipython3",
   "version": "3.10.12"
  },
  "papermill": {
   "default_parameters": {},
   "duration": 76.133768,
   "end_time": "2025-03-16T15:48:10.782399",
   "environment_variables": {},
   "exception": null,
   "input_path": "__notebook__.ipynb",
   "output_path": "__notebook__.ipynb",
   "parameters": {},
   "start_time": "2025-03-16T15:46:54.648631",
   "version": "2.6.0"
  }
 },
 "nbformat": 4,
 "nbformat_minor": 5
}
